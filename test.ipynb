{
 "cells": [
  {
   "cell_type": "code",
   "execution_count": 4,
   "metadata": {},
   "outputs": [
    {
     "name": "stdout",
     "output_type": "stream",
     "text": [
      "Requirement already satisfied: pymssql in c:\\users\\chacha\\appdata\\local\\packages\\pythonsoftwarefoundation.python.3.10_qbz5n2kfra8p0\\localcache\\local-packages\\python310\\site-packages (2.2.7)\n"
     ]
    },
    {
     "name": "stderr",
     "output_type": "stream",
     "text": [
      "\n",
      "[notice] A new release of pip is available: 23.1.2 -> 23.2.1\n",
      "[notice] To update, run: C:\\Users\\ChaCha\\AppData\\Local\\Microsoft\\WindowsApps\\PythonSoftwareFoundation.Python.3.10_qbz5n2kfra8p0\\python.exe -m pip install --upgrade pip\n"
     ]
    }
   ],
   "source": [
    "!python3 -m pip install pymssql matplotlib"
   ]
  },
  {
   "cell_type": "code",
   "execution_count": 50,
   "metadata": {},
   "outputs": [],
   "source": [
    "import matplotlib.pyplot as plt\n",
    "import pymssql as mssql\n",
    "import numpy as np\n",
    "import struct\n"
   ]
  },
  {
   "cell_type": "code",
   "execution_count": 4,
   "metadata": {},
   "outputs": [],
   "source": [
    "# url = 'DESKTOP-AKLQCEN'\n",
    "url = '127.0.0.1:1433'\n",
    "username='test'\n",
    "password='star-cso7'\n",
    "database='WTGSU113_Prototype_Beaksu_20170224'"
   ]
  },
  {
   "cell_type": "code",
   "execution_count": 5,
   "metadata": {},
   "outputs": [],
   "source": [
    "# conn = mssql.connect(server = 'DESKTOP-AKLQCEN',  database = 'WTGSU113_Prototype_Beaksu_20170224')\n",
    "conn = mssql.connect(server=url, user=username, password=password, database=database)\n",
    "cursor = conn.cursor() # 쿼리 생성과 결과 조회를 위해 사용\n"
   ]
  },
  {
   "cell_type": "code",
   "execution_count": 150,
   "metadata": {},
   "outputs": [],
   "source": [
    "def convertData(row, scaleFactor, type, r):\n",
    "    result = []\n",
    "    width = 0\n",
    "    t = ''\n",
    "    if type == 0:\n",
    "        width = 8\n",
    "        t = 'd'\n",
    "    if type == 1:\n",
    "        width = 4\n",
    "        t = 'f'\n",
    "    if type == 2:\n",
    "        width = 4\n",
    "        t = 'i'\n",
    "\n",
    "    for idx in range(0, len(row), width):\n",
    "        raw = row[idx:idx+width]\n",
    "        if r == True:\n",
    "            raw = raw[::-1]\n",
    "        data = struct.unpack(t, raw)[0]\n",
    "        result.append(data * scaleFactor)\n",
    "    return np.array(result)"
   ]
  },
  {
   "cell_type": "code",
   "execution_count": null,
   "metadata": {},
   "outputs": [],
   "source": []
  },
  {
   "cell_type": "code",
   "execution_count": 167,
   "metadata": {},
   "outputs": [
    {
     "name": "stdout",
     "output_type": "stream",
     "text": [
      "12800\n",
      "9.034041365088436e-35\n",
      "25.0826290862078\n",
      "-8.311373355397798e+294\n",
      "2.9787658685349826e+29\n",
      "-18.882161302860172\n",
      "\n",
      "\n",
      "32768\n",
      "nan\n",
      "nan\n",
      "7810.146094144846\n",
      "nan\n",
      "nan\n",
      "6502.293983088454\n",
      "\n",
      "\n",
      "800\n",
      "4.729330884710174e+28\n",
      "4743.095210189819\n",
      "1163889363.13\n",
      "-1.0863820076418806e+298\n",
      "nan\n",
      "71677529.34\n",
      "\n",
      "\n"
     ]
    }
   ],
   "source": [
    "cursor.execute('SELECT *  FROM MeasurementBinaryRaw WHERE IDMeasurement=195')\n",
    "# cursor.execute('SELECT *  FROM MeasurementBinaryRaw WHERE IDMeasurement=195')\n",
    "\n",
    "result = []\n",
    "\n",
    "row = cursor.fetchone() # 쿼리 결과의 다음 행을 가져와 리턴\n",
    "tmp1 = convertData(row[4], row[3], 0, False)\n",
    "tmp2 = convertData(row[4], row[3], 1, False)\n",
    "tmp3 = convertData(row[4], row[3], 2, False)\n",
    "tmp4 = convertData(row[4], row[3], 0, True)\n",
    "tmp5 = convertData(row[4], row[3], 1, True)\n",
    "tmp6 = convertData(row[4], row[3], 2, True)\n",
    "print(len(row[4]))\n",
    "print(tmp2.mean())\n",
    "print(tmp3.mean())\n",
    "print(tmp4.mean())\n",
    "print(tmp5.mean())\n",
    "print(tmp6.mean())\n",
    "print()\n",
    "print()\n",
    "\n",
    "row = cursor.fetchone() # 쿼리 결과의 다음 행을 가져와 리턴\n",
    "tmp1 = convertData(row[4], row[3], 0, False)\n",
    "tmp2 = convertData(row[4], row[3], 1, False)\n",
    "tmp3 = convertData(row[4], row[3], 2, False)\n",
    "tmp4 = convertData(row[4], row[3], 0, True)\n",
    "tmp5 = convertData(row[4], row[3], 1, True)\n",
    "tmp6 = convertData(row[4], row[3], 2, True)\n",
    "print(len(row[4]))\n",
    "print(tmp1.max())\n",
    "print(tmp2.max())\n",
    "print(tmp3.max())\n",
    "print(tmp4.max())\n",
    "print(tmp5.max())\n",
    "print(tmp6.mean())\n",
    "print()\n",
    "print()\n",
    "\n",
    "row = cursor.fetchone() # 쿼리 결과의 다음 행을 가져와 리턴\n",
    "tmp1 = convertData(row[4], row[3], 0, False)\n",
    "tmp2 = convertData(row[4], row[3], 1, False)\n",
    "tmp3 = convertData(row[4], row[3], 2, False)\n",
    "tmp4 = convertData(row[4], row[3], 0, True)\n",
    "tmp5 = convertData(row[4], row[3], 1, True)\n",
    "tmp6 = convertData(row[4], row[3], 2, True)\n",
    "print(len(row[4]))\n",
    "print(tmp1.mean())\n",
    "print(tmp2.mean())\n",
    "print(tmp3.mean())\n",
    "print(tmp4.mean())\n",
    "print(tmp5.mean())\n",
    "print(tmp6.mean())\n",
    "print()\n",
    "print()"
   ]
  },
  {
   "cell_type": "markdown",
   "metadata": {},
   "source": []
  },
  {
   "cell_type": "code",
   "execution_count": 168,
   "metadata": {},
   "outputs": [],
   "source": [
    "sample_rate = 512\n",
    "n = sample_rate * duration"
   ]
  },
  {
   "cell_type": "code",
   "execution_count": 169,
   "metadata": {},
   "outputs": [
    {
     "ename": "IndexError",
     "evalue": "tuple index out of range",
     "output_type": "error",
     "traceback": [
      "\u001b[1;31m---------------------------------------------------------------------------\u001b[0m",
      "\u001b[1;31mIndexError\u001b[0m                                Traceback (most recent call last)",
      "Cell \u001b[1;32mIn[169], line 4\u001b[0m\n\u001b[0;32m      1\u001b[0m t \u001b[39m=\u001b[39m tmp2 \u001b[39m-\u001b[39m tmp2\u001b[39m.\u001b[39mmean()\n\u001b[0;32m      3\u001b[0m x \u001b[39m=\u001b[39m np\u001b[39m.\u001b[39mfft\u001b[39m.\u001b[39mrfftfreq(n, \u001b[39m1\u001b[39m\u001b[39m/\u001b[39msample_rate)\n\u001b[1;32m----> 4\u001b[0m y \u001b[39m=\u001b[39m np\u001b[39m.\u001b[39;49mfft\u001b[39m.\u001b[39;49mrfft(data) \u001b[39m/\u001b[39m \u001b[39mlen\u001b[39m(data)\n",
      "File \u001b[1;32m<__array_function__ internals>:180\u001b[0m, in \u001b[0;36mrfft\u001b[1;34m(*args, **kwargs)\u001b[0m\n",
      "File \u001b[1;32m~\\AppData\\Local\\Packages\\PythonSoftwareFoundation.Python.3.10_qbz5n2kfra8p0\\LocalCache\\local-packages\\Python310\\site-packages\\numpy\\fft\\_pocketfft.py:407\u001b[0m, in \u001b[0;36mrfft\u001b[1;34m(a, n, axis, norm)\u001b[0m\n\u001b[0;32m    405\u001b[0m a \u001b[39m=\u001b[39m asarray(a)\n\u001b[0;32m    406\u001b[0m \u001b[39mif\u001b[39;00m n \u001b[39mis\u001b[39;00m \u001b[39mNone\u001b[39;00m:\n\u001b[1;32m--> 407\u001b[0m     n \u001b[39m=\u001b[39m a\u001b[39m.\u001b[39;49mshape[axis]\n\u001b[0;32m    408\u001b[0m inv_norm \u001b[39m=\u001b[39m _get_forward_norm(n, norm)\n\u001b[0;32m    409\u001b[0m output \u001b[39m=\u001b[39m _raw_fft(a, n, axis, \u001b[39mTrue\u001b[39;00m, \u001b[39mTrue\u001b[39;00m, inv_norm)\n",
      "\u001b[1;31mIndexError\u001b[0m: tuple index out of range"
     ]
    }
   ],
   "source": [
    "data = tmp2 - tmp2.mean()\n",
    "\n",
    "x = np.fft.rfftfreq(n, 1/sample_rate)\n",
    "y = np.fft.rfft(data) / len(data)"
   ]
  },
  {
   "cell_type": "code",
   "execution_count": 142,
   "metadata": {},
   "outputs": [
    {
     "name": "stdout",
     "output_type": "stream",
     "text": [
      "9.034041365088436e-35\n",
      "9.034041365088436e-35\n",
      "25.0826290862078\n",
      "-18.882161302860172\n"
     ]
    }
   ],
   "source": []
  },
  {
   "cell_type": "code",
   "execution_count": 80,
   "metadata": {},
   "outputs": [
    {
     "ename": "AttributeError",
     "evalue": "'list' object has no attribute 'mean'",
     "output_type": "error",
     "traceback": [
      "\u001b[1;31m---------------------------------------------------------------------------\u001b[0m",
      "\u001b[1;31mAttributeError\u001b[0m                            Traceback (most recent call last)",
      "Cell \u001b[1;32mIn[80], line 3\u001b[0m\n\u001b[0;32m      1\u001b[0m n \u001b[39m=\u001b[39m sample_rate \u001b[39m*\u001b[39m duration\n\u001b[1;32m----> 3\u001b[0m tmp1\u001b[39m.\u001b[39;49mmean()\n\u001b[0;32m      4\u001b[0m data \u001b[39m=\u001b[39m tmp1 \u001b[39m-\u001b[39m tmp1\u001b[39m.\u001b[39mmean()\n\u001b[0;32m      6\u001b[0m x \u001b[39m=\u001b[39m np\u001b[39m.\u001b[39mfft\u001b[39m.\u001b[39mrfftfreq(n, \u001b[39m1\u001b[39m\u001b[39m/\u001b[39msample_rate)\n",
      "\u001b[1;31mAttributeError\u001b[0m: 'list' object has no attribute 'mean'"
     ]
    }
   ],
   "source": []
  },
  {
   "cell_type": "code",
   "execution_count": null,
   "metadata": {},
   "outputs": [],
   "source": []
  }
 ],
 "metadata": {
  "kernelspec": {
   "display_name": "Python 3",
   "language": "python",
   "name": "python3"
  },
  "language_info": {
   "codemirror_mode": {
    "name": "ipython",
    "version": 3
   },
   "file_extension": ".py",
   "mimetype": "text/x-python",
   "name": "python",
   "nbconvert_exporter": "python",
   "pygments_lexer": "ipython3",
   "version": "3.10.11"
  },
  "orig_nbformat": 4
 },
 "nbformat": 4,
 "nbformat_minor": 2
}
